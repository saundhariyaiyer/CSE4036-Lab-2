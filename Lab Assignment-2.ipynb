{
 "cells": [
  {
   "cell_type": "markdown",
   "id": "d1f3bf9e",
   "metadata": {},
   "source": [
    "## LAB TITLE: MACHINE LEARNING$\\;\\;\\;\\;\\;\\;\\;\\;\\;\\;\\;\\;\\;\\;\\;\\;\\;\\;\\;\\;\\;\\;\\;\\;\\;\\;\\;\\;\\;\\;\\;\\;\\;\\;\\;\\;\\;\\;\\;\\;\\;\\;$ \tLAB CODE: CSE4036"
   ]
  },
  {
   "cell_type": "markdown",
   "id": "8a43185c",
   "metadata": {},
   "source": [
    "### Topic: Data Preprocessing$\\;\\;\\;\\;\\;\\;\\;\\;\\;\\;\\;\\;\\;\\;\\;\\;\\;\\;\\;\\;\\;\\;\\;\\;\\;\\;\\;\\;\\;\\;\\;\\;\\;\\;\\;\\;\\;\\;\\;\\;\\;\\;\\;\\;\\;\\;\\;\\;\\;\\;\\;\\;\\;\\;\\;\\;\\;\\;\\;\\;\\;\\;\\;\\;\\;\\;\\;\\;\\;\\;\\;\\;$ \tAssignment No:2"
   ]
  },
  {
   "cell_type": "code",
   "execution_count": 1,
   "id": "a268d4ba",
   "metadata": {},
   "outputs": [
    {
     "name": "stdout",
     "output_type": "stream",
     "text": [
      "Reg. Number:20MAI1002\n",
      "Name:Sariki\n"
     ]
    }
   ],
   "source": [
    "Num, Name = input(\"Reg. Number:\"), input(\"Name:\")"
   ]
  },
  {
   "cell_type": "markdown",
   "id": "75db1ca5",
   "metadata": {},
   "source": [
    "### Choose one suitable dataset and perform the following operations"
   ]
  },
  {
   "cell_type": "markdown",
   "id": "9663e552",
   "metadata": {},
   "source": [
    "### 1. Importing Data"
   ]
  },
  {
   "cell_type": "markdown",
   "id": "031e5bfa",
   "metadata": {},
   "source": [
    "* Read data from a CSV file\n",
    "* Read data from an Excel file\n",
    "* Read data from a Table from SQL\n",
    "* Read data from a JSON file\n",
    "* Read data from a HTML File\n",
    "* Read data from the Clipboard"
   ]
  },
  {
   "cell_type": "markdown",
   "id": "1c85e64c",
   "metadata": {},
   "source": [
    "### 2. Exploring Data"
   ]
  },
  {
   "cell_type": "markdown",
   "id": "65ed62a9",
   "metadata": {},
   "source": [
    "* Print the number of rows and columns of a Dataframe\n",
    "* Print the first `n` rows of the DataFrame\n",
    "* Print the last `n` rows of the DataFrame\n",
    "* Print the Index, Datatype and Memory information of the DataFrame\n",
    "* Print the Summary statistics for numerical columns of the given DataFrame\n",
    "* Print the Unique values and counts for all columns of the given DataFrame\n",
    "* Print the mean of all columns of the given DataFrame\n",
    "* Print the correlation between columns in a DataFrame\n",
    "* Print the number of non-null values in each DataFrame column\n",
    "* Print the highest value in each column of the given DataFrame\n",
    "* Print the lowest value in each column of the given DataFrame\n",
    "* Print the median of each column of the given DataFrame\n",
    "* Print the standard deviation of each column of the given DataFrame"
   ]
  },
  {
   "cell_type": "markdown",
   "id": "17e10996",
   "metadata": {},
   "source": [
    "### 3. Data Selection"
   ]
  },
  {
   "cell_type": "markdown",
   "id": "787c6de0",
   "metadata": {},
   "source": [
    "* Print the column with label col as Series\n",
    "* Print first element\n",
    "* Print the element at index 0\n",
    "* Print the first row of the given DataFrame\n",
    "* Print the first element of first column\n",
    "* Extract the independent variables (Features)\n",
    "* Extract the dependent variable (Target)"
   ]
  },
  {
   "cell_type": "markdown",
   "id": "d9929f34",
   "metadata": {},
   "source": [
    "### 4. Data Cleaning"
   ]
  },
  {
   "cell_type": "markdown",
   "id": "e0752db7",
   "metadata": {},
   "source": [
    "* Write Script to Renames columns\n",
    "* Write Script for checking null Values\n",
    "* Write Script for checking notnull values\n",
    "* Write Script for dropping all rows that contain null values\n",
    "* Write Script for dropping all columns that contain null values\n",
    "* Write Script for dropping all rows have have less than n non null values\n",
    "* Write Script for replacing all null values with a `specific` value\n",
    "* Write Script for replacing all null values with the mean\n",
    "* Write Script for replacing converting the datatype of the series to float\n",
    "* Write Script for replacing all values equal to `1` with `one`\n",
    "* Write Script for replacing all `1` with `one` and `3` with `three`\n",
    "* Write Script for mass renaming of columns using lambda expression\n",
    "* Write Script for selective renaming of `old_name` with `new_ name` \n",
    "* Write Script to change the index\n",
    "* Write Script for mass renaming of index"
   ]
  },
  {
   "cell_type": "markdown",
   "id": "bf7ca9e3",
   "metadata": {},
   "source": [
    "### 5. Data Filtering"
   ]
  },
  {
   "cell_type": "markdown",
   "id": "6b7ee068",
   "metadata": {},
   "source": [
    "* Select the rows where the column value is greater than `0.5`\n",
    "* Select the rows where the column values lies between `0.5` and `0.7`\n",
    "* Sort values by any of the cloumn name in ascending order\n",
    "* Sort values by any of the cloumn name in descending order\n",
    "* Sort values by any of the one column in `ascending` order then other column in `descending` order\n",
    "* Print the values in group by using one column\n",
    "* Print the values in group by using multiple columns\n",
    "* Print the mean of the values in one column, grouped by the values in other column\n",
    "* Create a pivot table that group by 1st column and calculate the mean of 2nd column and 3rd column\n",
    "* Find the average across all columns for every unique column-1 group\n",
    "* Apply mean function across each column\n",
    "* Apply max function across each row"
   ]
  },
  {
   "cell_type": "markdown",
   "id": "12a12914",
   "metadata": {},
   "source": [
    "### 6. Joining and Combining"
   ]
  },
  {
   "cell_type": "markdown",
   "id": "f49afb04",
   "metadata": {},
   "source": [
    "* Write Script to add the rows of df1 to the end of df2(columns should be identical)\n",
    "* Write Script to add the columns in df1 to the end of df2 (rows should be identical)\n",
    "* Write Script to join the columns in df1 with the columns on df2 where the rows for col have identical values."
   ]
  },
  {
   "cell_type": "markdown",
   "id": "cc85e3b7",
   "metadata": {},
   "source": [
    "### 7. Writing Data"
   ]
  },
  {
   "cell_type": "markdown",
   "id": "94a5f524",
   "metadata": {},
   "source": [
    "* Write to a CSV file\n",
    "* Write to an Excel file\n",
    "* Write to a Table from SQL\n",
    "* Write to a JSON file\n",
    "* Write to a HTML File\n",
    "* Write to data from Clipboard"
   ]
  },
  {
   "cell_type": "markdown",
   "id": "4eb35249",
   "metadata": {},
   "source": [
    "### 8. Data Transformation and Splitting using sklearn Package"
   ]
  },
  {
   "cell_type": "markdown",
   "id": "34a844ec",
   "metadata": {},
   "source": [
    "* Fill missing value with mean usin sklear pkg.\n",
    "* Perform Label Encoding on any suitable variable; for [help](https://www.analyticsvidhya.com/blog/2020/03/one-hot-encoding-vs-label-encoding-using-scikit-learn/)\n",
    "* Perform Train Test Split; for [help](https://towardsdatascience.com/understanding-train-test-split-scikit-learn-python-ea676d5e3d1)"
   ]
  },
  {
   "cell_type": "code",
   "execution_count": 16,
   "id": "6543cda5",
   "metadata": {},
   "outputs": [
    {
     "name": "stdout",
     "output_type": "stream",
     "text": [
      "This Script is executed by: Tulasi at 2022-07-28 20:20:06\n"
     ]
    }
   ],
   "source": [
    "#!pip install psutil\n",
    "import os\n",
    "import psutil\n",
    "dt = datetime.datetime.now()\n",
    "x = str(dt).split('.')[0]\n",
    "print(f\"This Script is executed by: {platform.node()}\", \"at\", x)"
   ]
  }
 ],
 "metadata": {
  "kernelspec": {
   "display_name": "Python 3 (ipykernel)",
   "language": "python",
   "name": "python3"
  },
  "language_info": {
   "codemirror_mode": {
    "name": "ipython",
    "version": 3
   },
   "file_extension": ".py",
   "mimetype": "text/x-python",
   "name": "python",
   "nbconvert_exporter": "python",
   "pygments_lexer": "ipython3",
   "version": "3.9.12"
  }
 },
 "nbformat": 4,
 "nbformat_minor": 5
}
